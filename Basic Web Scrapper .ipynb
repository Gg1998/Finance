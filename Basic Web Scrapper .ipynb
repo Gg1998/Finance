{
 "cells": [
  {
   "cell_type": "code",
   "execution_count": 27,
   "metadata": {},
   "outputs": [],
   "source": [
    "from selenium import webdriver\n",
    "from bs4 import BeautifulSoup \n",
    "import pandas as pd"
   ]
  },
  {
   "cell_type": "code",
   "execution_count": 28,
   "metadata": {},
   "outputs": [],
   "source": [
    "driver = webdriver.Chrome(r'C:/Users/Gaurav/Downloads/chromedriver_win32 (1)/chromedriver.exe')\n"
   ]
  },
  {
   "cell_type": "code",
   "execution_count": 29,
   "metadata": {},
   "outputs": [],
   "source": [
    "#insert the website you want to scrape\n",
    "driver.get(\"https://www.moneycontrol.com/india/stockpricequote/banks-private-sector/yesbank/YB\")\n",
    "\n",
    "price=[]\n",
    "yesterdayclose=[]\n",
    "volume=[]\n",
    "\n",
    "\n"
   ]
  },
  {
   "cell_type": "code",
   "execution_count": 21,
   "metadata": {},
   "outputs": [
    {
     "name": "stdout",
     "output_type": "stream",
     "text": [
      "<div class=\"_3wU53n\">Apple MacBook Air Core i5 5th Gen - (8 GB/128 GB SSD/Mac OS Sierra) MQD32HN/A A1466</div>\n",
      "<div class=\"_1vC4OE _2rQ-NK\">₹67,990</div>\n",
      "0\n",
      "<div class=\"_3wU53n\">Lenovo Core i5 7th Gen - (8 GB/2 TB HDD/Windows 10 Home/4 GB Graphics) IP 520 Laptop</div>\n",
      "<div class=\"_1vC4OE _2rQ-NK\">₹75,500</div>\n",
      "1\n",
      "<div class=\"_3wU53n\">Lenovo Core i5 7th Gen - (8 GB/1 TB HDD/DOS/2 GB Graphics) IP 320-15IKB Laptop</div>\n",
      "<div class=\"_1vC4OE _2rQ-NK\">₹52,990</div>\n",
      "2\n",
      "<div class=\"_3wU53n\">Lenovo Yoga 510 Core i3 6th Gen - (4 GB/1 TB HDD/Windows 10 Home) Yoga 510 2 in 1 Laptop</div>\n",
      "<div class=\"_1vC4OE _2rQ-NK\">₹38,490</div>\n",
      "3\n",
      "<div class=\"_3wU53n\">Lenovo Ideapad Core i5 7th Gen - (8 GB/1 TB HDD/Windows 10 Home/2 GB Graphics) IP 320-15IKB Laptop</div>\n",
      "<div class=\"_1vC4OE _2rQ-NK\">₹52,990</div>\n",
      "4\n",
      "<div class=\"_3wU53n\">Lenovo Ideapad Core i3 6th Gen - (4 GB/1 TB HDD/DOS) IP 320E Laptop</div>\n",
      "<div class=\"_1vC4OE _2rQ-NK\">₹26,990</div>\n",
      "5\n",
      "<div class=\"_3wU53n\">Lenovo Core i3 6th Gen - (4 GB/1 TB HDD/Windows 10 Home) IP 320E Laptop</div>\n",
      "<div class=\"_1vC4OE _2rQ-NK\">₹29,999</div>\n",
      "6\n"
     ]
    },
    {
     "name": "stderr",
     "output_type": "stream",
     "text": [
      "C:\\Users\\Gaurav\\Anaconda3\\lib\\site-packages\\bs4\\__init__.py:181: UserWarning: No parser was explicitly specified, so I'm using the best available HTML parser for this system (\"lxml\"). This usually isn't a problem, but if you run this code on another system, or in a different virtual environment, it may use a different parser and behave differently.\n",
      "\n",
      "The code that caused this warning is on line 193 of the file C:\\Users\\Gaurav\\Anaconda3\\lib\\runpy.py. To get rid of this warning, change code that looks like this:\n",
      "\n",
      " BeautifulSoup(YOUR_MARKUP})\n",
      "\n",
      "to this:\n",
      "\n",
      " BeautifulSoup(YOUR_MARKUP, \"lxml\")\n",
      "\n",
      "  markup_type=markup_type))\n"
     ]
    }
   ],
   "source": [
    "content = driver.page_source\n",
    "soup = BeautifulSoup(content)\n",
    "count=0\n",
    "for a in soup.findAll('a',href=True, attrs={'class':'_31qSD5'}):\n",
    "    name=a.find('', attrs={'class':'_3wU53n'})\n",
    "    price=a.find('span', attrs={'class':'span_price_wrap stprh rdclr'})\n",
    "    yesterdayclose=a.find('div', attrs={'class':'hGSR34 _2beYZw'})\n",
    "    volume=a.find\n",
    "    products.append(name.text)\n",
    "    prices.append(price.text)\n",
    "    \n",
    "   \n",
    "    print(name)\n",
    "    print(price)\n",
    "    \n",
    "    print(count)\n",
    "    count=count+1\n"
   ]
  },
  {
   "cell_type": "code",
   "execution_count": 23,
   "metadata": {},
   "outputs": [],
   "source": [
    "df = pd.DataFrame({'Product Name':products,'Price':prices}) \n",
    "df.to_csv('products.csv', index=False, encoding='utf-8')"
   ]
  },
  {
   "cell_type": "code",
   "execution_count": null,
   "metadata": {},
   "outputs": [],
   "source": []
  }
 ],
 "metadata": {
  "kernelspec": {
   "display_name": "Python 3",
   "language": "python",
   "name": "python3"
  },
  "language_info": {
   "codemirror_mode": {
    "name": "ipython",
    "version": 3
   },
   "file_extension": ".py",
   "mimetype": "text/x-python",
   "name": "python",
   "nbconvert_exporter": "python",
   "pygments_lexer": "ipython3",
   "version": "3.6.5"
  }
 },
 "nbformat": 4,
 "nbformat_minor": 2
}
